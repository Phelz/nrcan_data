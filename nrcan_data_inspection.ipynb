{
 "cells": [
  {
   "attachments": {},
   "cell_type": "markdown",
   "metadata": {},
   "source": [
    "# Imports"
   ]
  },
  {
   "cell_type": "code",
   "execution_count": 3,
   "metadata": {},
   "outputs": [],
   "source": [
    "import os, sys, glob, gc\n",
    "\n",
    "SCRIPT_DIR = os.path.dirname(os.path.abspath(os.getcwd()))\n",
    "sys.path.append(os.path.dirname(SCRIPT_DIR))\n",
    "\n",
    "from datetime import datetime, timedelta\n",
    "import numpy as np\n",
    "from scipy import interpolate\n",
    "\n",
    "import matplotlib.pyplot as plt\n",
    "from skimage.transform import rescale, resize\n",
    "\n",
    "from classes import DataFile\n",
    "from utils import load_object"
   ]
  },
  {
   "attachments": {},
   "cell_type": "markdown",
   "metadata": {},
   "source": [
    "# Data Analysis\n",
    "\n",
    "## File List\n",
    "\n",
    "Loading all 2019 files that contain link information at 14.3644 MHz."
   ]
  },
  {
   "cell_type": "code",
   "execution_count": 4,
   "metadata": {},
   "outputs": [],
   "source": [
    "\n",
    "file_list = load_object(\"data\\\\2019\\\\2019_14p3644.dat\")"
   ]
  },
  {
   "attachments": {},
   "cell_type": "markdown",
   "metadata": {},
   "source": [
    "## One File"
   ]
  },
  {
   "cell_type": "code",
   "execution_count": 5,
   "metadata": {},
   "outputs": [
    {
     "name": "stdout",
     "output_type": "stream",
     "text": [
      "2019-07-20 00:00:00 ['Ale', 'Ott'] 14.3644\n"
     ]
    }
   ],
   "source": [
    "data_file = file_list[0]\n",
    "print(data_file.date_time, data_file.link, data_file.frequency)"
   ]
  },
  {
   "cell_type": "markdown",
   "metadata": {},
   "source": [
    "## Time Data"
   ]
  },
  {
   "cell_type": "code",
   "execution_count": 6,
   "metadata": {},
   "outputs": [
    {
     "name": "stdout",
     "output_type": "stream",
     "text": [
      "2019-07-20 00:00:00\n",
      "[737626.69190972 737626.69885417 737626.70059028 737626.70232639\n",
      " 737626.7040625  737626.70579861 737626.70753472 737626.70927083\n",
      " 737626.71100694 737626.71274306]\n",
      "(175,)\n"
     ]
    }
   ],
   "source": [
    "date = data_file.date_time\n",
    "print(date)\n",
    "\n",
    "time_of_day = data_file.data_dic['timeday']\n",
    "print(time_of_day[:10])\n",
    "print(time_of_day.shape)\n"
   ]
  },
  {
   "cell_type": "code",
   "execution_count": 7,
   "metadata": {},
   "outputs": [
    {
     "data": {
      "text/plain": [
       "array([737626.69190972, 737626.69885417, 737626.70059028, 737626.70232639,\n",
       "       737626.7040625 , 737626.70579861, 737626.70753472, 737626.70927083,\n",
       "       737626.71100694, 737626.71274306])"
      ]
     },
     "execution_count": 7,
     "metadata": {},
     "output_type": "execute_result"
    }
   ],
   "source": [
    "time_of_day = time_of_day.ravel()\n",
    "time_of_day[:10]"
   ]
  },
  {
   "cell_type": "markdown",
   "metadata": {},
   "source": [
    "This suggests that everything before the decimal is just the day. The fraction might be the time of day, as the variable in the raw data is named `timeday`.\n"
   ]
  },
  {
   "cell_type": "code",
   "execution_count": 8,
   "metadata": {},
   "outputs": [
    {
     "name": "stdout",
     "output_type": "stream",
     "text": [
      "2019-07-21 00:00:00\n",
      "[737627.00267361 737627.00440972 737627.00614583 737627.00788194\n",
      " 737627.00961806 737627.01135417 737627.01309028 737627.01482639\n",
      " 737627.0165625  737627.01829861]\n"
     ]
    }
   ],
   "source": [
    "next_day_data =  file_list[1]\n",
    "print(next_day_data.date_time)\n",
    "\n",
    "n_time_data = next_day_data.data_dic['timeday'].ravel()\n",
    "print(n_time_data[:10])"
   ]
  },
  {
   "cell_type": "markdown",
   "metadata": {},
   "source": [
    "This makes sense but what is the reference day...?"
   ]
  },
  {
   "cell_type": "code",
   "execution_count": 9,
   "metadata": {},
   "outputs": [
    {
     "data": {
      "text/plain": [
       "737627"
      ]
     },
     "execution_count": 9,
     "metadata": {},
     "output_type": "execute_result"
    }
   ],
   "source": [
    "days_since = int(np.floor(n_time_data[0]))\n",
    "days_since"
   ]
  },
  {
   "cell_type": "code",
   "execution_count": 10,
   "metadata": {},
   "outputs": [
    {
     "name": "stdout",
     "output_type": "stream",
     "text": [
      "2019-07-21 00:00:00\n",
      "2020-07-22 00:00:00\n"
     ]
    }
   ],
   "source": [
    "print(next_day_data.date_time)\n",
    "print(datetime(1, 1, 1) + timedelta(days=days_since))"
   ]
  },
  {
   "attachments": {},
   "cell_type": "markdown",
   "metadata": {},
   "source": [
    "Okay. So their reference is year 0, day 0. The begining of time lol."
   ]
  },
  {
   "cell_type": "markdown",
   "metadata": {},
   "source": [
    "### Other time data\n",
    "\n",
    "- TOFLIGHT: Time of flight in [ms].\n",
    "- TOFMODE: Modelled time of flight [ms]. (as referring to the ray tracing in the paper)."
   ]
  },
  {
   "attachments": {},
   "cell_type": "markdown",
   "metadata": {},
   "source": [
    "## Power Data\n",
    "\n",
    "There's `snr`, `snr_dd`, and `sigpow` attributes in the data. All the data have 175 columns (can be though of as entries, and vary with each day and frequency- sometimes we have more/less data in a given day). \n",
    "\n",
    "Luckily, a lot of the units here can be verified with Taylor's paper. From the paper, we have the following:\n",
    "\n",
    "- SNR [dB]\n",
    "- SIG POW [dBm] (referenced to milli-Watts)\n",
    "- SNR_DD [dimensionless] -- Has to be related to the probablility **d**ensity **d**istributions in the paper. However, in the paper they are normalized between 0 and 1."
   ]
  },
  {
   "cell_type": "code",
   "execution_count": 11,
   "metadata": {},
   "outputs": [],
   "source": [
    "snr = data_file.data_dic['snr']"
   ]
  },
  {
   "attachments": {},
   "cell_type": "markdown",
   "metadata": {},
   "source": [
    "### Signal Power\n",
    "\n",
    "By inverting signal power, assuming the units were $dBm$, we can see that the mean value is about $ 4.6 \\times 10^{5} \\ kW $. In comparison, HAARP outputs ~ $3.6 \\times 10^{3} ~ kW$ or ~ $ 95.5 ~ dBm $. It only makes sense that these are referenced to the noise floor, which is confirmed when looking at Taylor's paper: ***he uses negative values***. "
   ]
  },
  {
   "cell_type": "code",
   "execution_count": 12,
   "metadata": {},
   "outputs": [
    {
     "name": "stdout",
     "output_type": "stream",
     "text": [
      "[4.18521542e+08 3.38566836e+07 9.03023567e+06] 4.61e+08\n"
     ]
    }
   ],
   "source": [
    "sig_pow = 1e-3*np.power(data_file.data_dic['sigpow']/10, 10)\n",
    "print(sig_pow[:3], \"%.2e\" % np.mean(sig_pow))"
   ]
  },
  {
   "attachments": {},
   "cell_type": "markdown",
   "metadata": {},
   "source": [
    "### SNR_DD\n",
    "\n",
    "These must be the density distributions that Taylor used in his paper. We can check by reproducing his 2014, 14.36 MHz plot. \n",
    "\n",
    "\n",
    "<img src=\"snr_dd_5mhz.png\">"
   ]
  },
  {
   "cell_type": "markdown",
   "metadata": {},
   "source": [
    "#### Slice one day"
   ]
  },
  {
   "cell_type": "code",
   "execution_count": 13,
   "metadata": {},
   "outputs": [],
   "source": [
    "files_2014 = load_object(\"data\\\\2014\\\\2014_5p3820.dat\")"
   ]
  },
  {
   "cell_type": "code",
   "execution_count": 14,
   "metadata": {},
   "outputs": [
    {
     "data": {
      "text/plain": [
       "array([735600.24104167, 735600.25145833, 735600.99104167])"
      ]
     },
     "execution_count": 14,
     "metadata": {},
     "output_type": "execute_result"
    }
   ],
   "source": [
    "file = files_2014[0]\n",
    "\n",
    "file.data_dic['timeday']"
   ]
  },
  {
   "cell_type": "code",
   "execution_count": 15,
   "metadata": {},
   "outputs": [],
   "source": [
    "\n",
    "norm = np.linspace(0, 1, endpoint=True, num=1000)\n",
    "norm_day = np.linspace(0, 24, endpoint=True, num=1000)\n",
    "\n",
    "f =  interpolate.interp1d( norm, norm_day  )"
   ]
  },
  {
   "cell_type": "code",
   "execution_count": 16,
   "metadata": {},
   "outputs": [
    {
     "data": {
      "text/plain": [
       "array([0.24104167, 0.25145833, 0.99104167])"
      ]
     },
     "execution_count": 16,
     "metadata": {},
     "output_type": "execute_result"
    }
   ],
   "source": [
    "time_arr = file.data_dic['timeday']\n",
    "\n",
    "def strip_day_from_time(day_time):\n",
    "\n",
    "    return day_time - np.floor(day_time)\n",
    "\n",
    "time_arr = np.vectorize(strip_day_from_time)(time_arr)\n",
    "time_arr"
   ]
  },
  {
   "cell_type": "code",
   "execution_count": 17,
   "metadata": {},
   "outputs": [
    {
     "data": {
      "text/plain": [
       "array([ 5.785,  6.035, 23.785])"
      ]
     },
     "execution_count": 17,
     "metadata": {},
     "output_type": "execute_result"
    }
   ],
   "source": [
    "f(time_arr)"
   ]
  },
  {
   "cell_type": "code",
   "execution_count": 18,
   "metadata": {},
   "outputs": [
    {
     "name": "stdout",
     "output_type": "stream",
     "text": [
      "[0.49095363 0.58715367 0.57982358]\n",
      "(3,) (3,)\n"
     ]
    }
   ],
   "source": [
    "snr_dd = file.data_dic[\"snr_dd\"]\n",
    "\n",
    "print(snr_dd)\n",
    "print(f(time_arr).shape, snr_dd.shape)"
   ]
  },
  {
   "cell_type": "code",
   "execution_count": 19,
   "metadata": {},
   "outputs": [
    {
     "name": "stdout",
     "output_type": "stream",
     "text": [
      "[ 5.785  6.035 23.785]\n"
     ]
    },
    {
     "data": {
      "text/plain": [
       "array([ 5.5,  6. , 23.5])"
      ]
     },
     "execution_count": 19,
     "metadata": {},
     "output_type": "execute_result"
    }
   ],
   "source": [
    "binned_day = np.arange(0, 24, 0.5 )\n",
    "\n",
    "def bin_time(time):\n",
    "\n",
    "    indcs = np.where( np.isclose(time, binned_day, atol=0.3) )[0]\n",
    "\n",
    "    # Bin OVerlap Condition\n",
    "    if len(indcs) == 1:\n",
    "        return binned_day[indcs]\n",
    "        \n",
    "    elif len(indcs) > 1:\n",
    "\n",
    "        # Edge Case\n",
    "        if indcs[-1] == 47:\n",
    "\n",
    "            # Use 23.5 hr bin\n",
    "            return binned_day[indcs[-1]]\n",
    "\n",
    "        else: return binned_day[indcs[0]]\n",
    "\n",
    "\n",
    "    return binned_day[indcs] if len(indcs) == 1 else binned_day[indcs[-1]] \n",
    "\n",
    "interp_t_arr = f(time_arr)\n",
    "print(interp_t_arr)\n",
    "binned_t_arr = np.vectorize(bin_time)(interp_t_arr)\n",
    "binned_t_arr\n"
   ]
  },
  {
   "cell_type": "code",
   "execution_count": 20,
   "metadata": {},
   "outputs": [
    {
     "name": "stdout",
     "output_type": "stream",
     "text": [
      "[ 0.   0.5  1.   1.5  2.   2.5  3.   3.5  4.   4.5  5.   5.5  6.   6.5\n",
      "  7.   7.5  8.   8.5  9.   9.5 10.  10.5 11.  11.5 12.  12.5 13.  13.5\n",
      " 14.  14.5 15.  15.5 16.  16.5 17.  17.5 18.  18.5 19.  19.5 20.  20.5\n",
      " 21.  21.5 22.  22.5 23.  23.5]\n",
      "[ 5.5  6.  23.5] (3,)\n"
     ]
    }
   ],
   "source": [
    "time_slice = np.zeros_like(binned_day)\n",
    "print(binned_day)\n",
    "print(binned_t_arr, binned_t_arr.shape)\n",
    "\n",
    "indcs = np.searchsorted(  binned_day, binned_t_arr, side=\"left\" )"
   ]
  },
  {
   "cell_type": "code",
   "execution_count": 21,
   "metadata": {},
   "outputs": [
    {
     "data": {
      "text/plain": [
       "array([11, 12, 47], dtype=int64)"
      ]
     },
     "execution_count": 21,
     "metadata": {},
     "output_type": "execute_result"
    }
   ],
   "source": [
    "indcs"
   ]
  },
  {
   "cell_type": "code",
   "execution_count": 22,
   "metadata": {},
   "outputs": [
    {
     "data": {
      "text/plain": [
       "array([0.        , 0.        , 0.        , 0.        , 0.        ,\n",
       "       0.        , 0.        , 0.        , 0.        , 0.        ,\n",
       "       0.        , 0.49095363, 0.58715367, 0.        , 0.        ,\n",
       "       0.        , 0.        , 0.        , 0.        , 0.        ,\n",
       "       0.        , 0.        , 0.        , 0.        , 0.        ,\n",
       "       0.        , 0.        , 0.        , 0.        , 0.        ,\n",
       "       0.        , 0.        , 0.        , 0.        , 0.        ,\n",
       "       0.        , 0.        , 0.        , 0.        , 0.        ,\n",
       "       0.        , 0.        , 0.        , 0.        , 0.        ,\n",
       "       0.        , 0.        , 0.57982358])"
      ]
     },
     "execution_count": 22,
     "metadata": {},
     "output_type": "execute_result"
    }
   ],
   "source": [
    "def stack_bins(indcs, time_slice, values_arr):\n",
    "    \"\"\" For values in the same time bin, average them.\"\"\"\n",
    "\n",
    "    unique, dup_count = np.unique(indcs, return_counts=True)\n",
    "    dup = unique[dup_count > 1]\n",
    "\n",
    "    # If there's duplicates\n",
    "    means = []\n",
    "    if len(dup) >= 1:\n",
    "        \n",
    "        # Get their mean\n",
    "        for d in dup:\n",
    "            i = np.where( np.in1d(indcs, d) )[0]\n",
    "            mean = np.mean(values_arr[i])\n",
    "            means.append(mean)        \n",
    "\n",
    "    # Place values in time slice\n",
    "    time_slice[indcs] = values_arr\n",
    "    time_slice[dup] = np.array(means)\n",
    "\n",
    "    return time_slice\n",
    "\n",
    "stack_bins(indcs, time_slice, snr_dd)"
   ]
  },
  {
   "cell_type": "markdown",
   "metadata": {},
   "source": [
    "#### Put it all together"
   ]
  },
  {
   "cell_type": "code",
   "execution_count": 23,
   "metadata": {},
   "outputs": [
    {
     "name": "stdout",
     "output_type": "stream",
     "text": [
      "[ 1  2  3  4  5  6  7  8  9 10]\n"
     ]
    }
   ],
   "source": [
    "\n",
    "months = []\n",
    "for file_indx, file in enumerate(files_2014):\n",
    "\n",
    "    # Month of year\n",
    "    month = file.date_time.month\n",
    "    months.append(month)\n",
    "\n",
    "    # Repeat previous steps for entire year\n",
    "    timeday_arr = file.data_dic['timeday']\n",
    "    \n",
    "    t_arr = np.vectorize(strip_day_from_time)(timeday_arr)\n",
    "\n",
    "    interp_t_arr = f(t_arr) \n",
    "    binned_t_arr = np.vectorize(bin_time)(interp_t_arr)\n",
    "\n",
    "    time_slice = np.zeros_like(binned_day)\n",
    "    indcs = np.searchsorted(  binned_day, binned_t_arr, side=\"left\" )\n",
    "\n",
    "\n",
    "    snr_dd = file.data_dic[\"snr_dd\"]\n",
    "\n",
    "    time_slice = stack_bins(indcs, time_slice, snr_dd)\n",
    "\n",
    "    # Construct image\n",
    "    if file_indx == 0: time_slices = time_slice\n",
    "    else: time_slices = np.vstack( (time_slices, time_slice) )\n",
    "\n",
    "months = np.unique(months)\n",
    "print(months)"
   ]
  },
  {
   "cell_type": "code",
   "execution_count": 24,
   "metadata": {},
   "outputs": [],
   "source": [
    "from matplotlib.colors import Normalize\n",
    "\n",
    "norm = Normalize(vmin=0, vmax=1, clip=False)\n",
    "\n"
   ]
  },
  {
   "cell_type": "code",
   "execution_count": 25,
   "metadata": {},
   "outputs": [
    {
     "data": {
      "text/plain": [
       "<matplotlib.colorbar.Colorbar at 0x23f60245e50>"
      ]
     },
     "execution_count": 25,
     "metadata": {},
     "output_type": "execute_result"
    },
    {
     "data": {
      "image/png": "[encoded data removed]",
      "text/plain": [
       "<Figure size 1440x360 with 2 Axes>"
      ]
     },
     "metadata": {
      "needs_background": "light"
     },
     "output_type": "display_data"
    }
   ],
   "source": [
    "fig, ax = plt.subplots(1, 1, figsize=(20,5) )\n",
    "\n",
    "xlim = tuple(months[[0, -1]])\n",
    "ylim = tuple(binned_day[[0, -1]])\n",
    "\n",
    "im = ax.imshow(np.flipud(time_slices.T), norm=norm, alpha=0.9, extent=[*xlim, *ylim], aspect=\"auto\", interpolation='None', )\n",
    "\n",
    "ax.set_xlabel(  \"Month of year\"  )\n",
    "ax.set_ylabel( \"UT\")\n",
    "\n",
    "fig.colorbar(im)"
   ]
  },
  {
   "attachments": {},
   "cell_type": "markdown",
   "metadata": {},
   "source": [
    "We are very close. After inspecting Taylor's plot closely, I can see that he grouped up the months in roughly 4 bins. Let's try that out."
   ]
  },
  {
   "cell_type": "code",
   "execution_count": 26,
   "metadata": {},
   "outputs": [
    {
     "name": "stdout",
     "output_type": "stream",
     "text": [
      "48 268\n",
      "(48, 67)\n"
     ]
    }
   ],
   "source": [
    "image = np.flipud(time_slices.T)\n",
    "x_shape, y_shape = image.shape\n",
    "print(x_shape, y_shape)\n",
    "\n",
    "downsize_image = resize( image, (x_shape, y_shape//4), preserve_range=True, order=3, anti_aliasing=True )\n",
    "print(downsize_image.shape)\n"
   ]
  },
  {
   "cell_type": "code",
   "execution_count": 27,
   "metadata": {},
   "outputs": [
    {
     "data": {
      "text/plain": [
       "<matplotlib.colorbar.Colorbar at 0x23f602f4d00>"
      ]
     },
     "execution_count": 27,
     "metadata": {},
     "output_type": "execute_result"
    },
    {
     "data": {
      "image/png": "[encoded data removed]",
      "text/plain": [
       "<Figure size 1440x360 with 2 Axes>"
      ]
     },
     "metadata": {
      "needs_background": "light"
     },
     "output_type": "display_data"
    }
   ],
   "source": [
    "fig, ax = plt.subplots(1, 1, figsize=(20,5) )\n",
    "im = ax.imshow(downsize_image, norm=norm, alpha=1, extent=[*xlim, *ylim], aspect=\"auto\", interpolation='none' )\n",
    "\n",
    "ax.set_xlabel(  \"Month of year\"  )\n",
    "ax.set_ylabel( \"UT\")\n",
    "\n",
    "fig.colorbar(im)"
   ]
  },
  {
   "cell_type": "code",
   "execution_count": null,
   "metadata": {},
   "outputs": [],
   "source": []
  },
  {
   "cell_type": "code",
   "execution_count": null,
   "metadata": {},
   "outputs": [],
   "source": []
  }
 ],
 "metadata": {
  "kernelspec": {
   "display_name": "FromScratch",
   "language": "python",
   "name": "python3"
  },
  "language_info": {
   "codemirror_mode": {
    "name": "ipython",
    "version": 3
   },
   "file_extension": ".py",
   "mimetype": "text/x-python",
   "name": "python",
   "nbconvert_exporter": "python",
   "pygments_lexer": "ipython3",
   "version": "3.9.7"
  },
  "orig_nbformat": 4,
  "vscode": {
   "interpreter": {
    "hash": "c4fc94373f5e0b54f43d1f392628e115dbadbb61507a3532d6a4a7f89c4b962e"
   }
  }
 },
 "nbformat": 4,
 "nbformat_minor": 2
}
